{
  "nbformat": 4,
  "nbformat_minor": 0,
  "metadata": {
    "colab": {
      "provenance": [],
      "authorship_tag": "ABX9TyPJyQB7opG4Uo9nnjuhl3kM",
      "include_colab_link": true
    },
    "kernelspec": {
      "name": "python3",
      "display_name": "Python 3"
    },
    "language_info": {
      "name": "python"
    }
  },
  "cells": [
    {
      "cell_type": "markdown",
      "metadata": {
        "id": "view-in-github",
        "colab_type": "text"
      },
      "source": [
        "<a href=\"https://colab.research.google.com/github/AenimaLabs/CienciaDatos0067/blob/main/EvaluacionFinalM2.ipynb\" target=\"_parent\"><img src=\"https://colab.research.google.com/assets/colab-badge.svg\" alt=\"Open In Colab\"/></a>"
      ]
    },
    {
      "cell_type": "markdown",
      "source": [
        "#Libros y Bytes"
      ],
      "metadata": {
        "id": "DJ5DUlBQach-"
      }
    },
    {
      "cell_type": "markdown",
      "source": [
        "##1.- Definir variables básicas y tipos de datos:\n",
        "  * Crea una **lista** que contenga al menos 5 libros\n",
        "  * Cada libro sea un **diccionario**\n",
        "  * Con los siguientes atributos:\n",
        "    * título: cadena de caracteres\n",
        "    * autor: cadena de caracteres\n",
        "    * precio: decimal\n",
        "    * cantidad en stock: entero  "
      ],
      "metadata": {
        "id": "5FrXDMUgbj4y"
      }
    },
    {
      "cell_type": "code",
      "source": [
        "# principales métodos de una lista:\n",
        "# append(): Agrega un elemento al final de la lista.\n",
        "# extend(): Agrega todos los elementos de un iterable (como otra lista) al final de la lista actual.\n",
        "# insert(): Inserta un elemento en un índice específico.\n",
        "# remove(): Elimina la primera aparición de un elemento específico.\n",
        "# pop(): Elimina y devuelve el elemento en un índice específico.\n",
        "# clear(): Elimina todos los elementos de la lista.\n",
        "# index(): Devuelve el índice de la primera aparición de un elemento.\n",
        "# count(): Devuelve el número de veces que un elemento aparece en la lista.\n",
        "# sort(): Ordena la lista en orden ascendente (o descendente si reverse=True).\n",
        "# reverse(): Invierte el orden de la lista.\n",
        "# copy(): Devuelve una copia superficial de la lista."
      ],
      "metadata": {
        "id": "-6TiM5zOdJqR"
      },
      "execution_count": 91,
      "outputs": []
    },
    {
      "cell_type": "code",
      "execution_count": 92,
      "metadata": {
        "colab": {
          "base_uri": "https://localhost:8080/"
        },
        "id": "ChWd_yfRaY-8",
        "outputId": "dbba8289-9c23-4e35-8172-88e44dadb962"
      },
      "outputs": [
        {
          "output_type": "stream",
          "name": "stdout",
          "text": [
            "*El elemnto ubicado en el índice 2 es: Python\n",
            "*La cantidad de elementos presentes en la lista es: 5\n",
            "[1, 'M', 'Python', 2.3, False, 'Naranjas']\n",
            "[1, 'M', 'Naranjas', 'Python', 2.3, False, 'Naranjas']\n",
            "[1, 'M', 'Python', 2.3, False, 'Naranjas']\n",
            "[1, 'M', 2.3, False, 'Naranjas']\n",
            "[]\n"
          ]
        }
      ],
      "source": [
        "#        0   1      2       3     4     posiciones en el  índice\n",
        "lista = [1, \"M\", \"Python\", 2.3, False]\n",
        "print(f\"*El elemnto ubicado en el índice 2 es: {lista[2]}\")\n",
        "\n",
        "largo_lista = len(lista) #nos entrega la cantidad de elementos presentes\n",
        "print(f\"*La cantidad de elementos presentes en la lista es: {largo_lista}\")\n",
        "\n",
        "lista.append(\"Naranjas\") #añadir elemento en la lista\n",
        "print(lista)\n",
        "\n",
        "lista.insert(2,\"Naranjas\") #agrego elemento en un índice específico\n",
        "print(lista)\n",
        "\n",
        "lista.remove(\"Naranjas\") #remueve el primer valor que encuentre igual a Naranjas\n",
        "print(lista)\n",
        "\n",
        "lista.pop(2) #remueve lo que encuentre en el índice 2\n",
        "print(lista)\n",
        "\n",
        "lista.clear() #acá ya me amurré y no quise seguir jugando con la lista, así que la borré\n",
        "print(lista)"
      ]
    },
    {
      "cell_type": "code",
      "source": [
        "# principales métodos de un diccionario:\n",
        "# clear(): Elimina todos los elementos del diccionario.\n",
        "# copy(): Devuelve una copia superficial del diccionario.\n",
        "# fromkeys(keys, value): Crea un nuevo diccionario con las claves especificadas y un valor opcional.\n",
        "# get(key, default): Devuelve el valor de la clave especificada, o el valor por defecto si la clave no se encuentra.\n",
        "# items(): Devuelve una vista de los pares clave-valor del diccionario.\n",
        "# keys(): Devuelve una vista de las claves del diccionario.\n",
        "# pop(key, default): Elimina y devuelve el valor de la clave especificada. Si la clave no se encuentra, devuelve el valor por defecto si se proporciona.\n",
        "# popitem(): Elimina y devuelve un par clave-valor arbitrario (generalmente el último).\n",
        "# setdefault(key, default): Devuelve el valor de la clave especificada. Si la clave no se encuentra, la inserta con el valor por defecto y devuelve ese valor.\n",
        "# update(iterable): Agrega pares clave-valor de un iterable (como otro diccionario) al diccionario actual.\n",
        "# values(): Devuelve una vista de los valores del diccionario."
      ],
      "metadata": {
        "id": "RVefKBeUipgE"
      },
      "execution_count": 93,
      "outputs": []
    },
    {
      "cell_type": "code",
      "source": [
        "diccionario = {\"clave1\" : \"valor1\", \"clave2\" : \"valor2\"}\n",
        "print(diccionario)\n",
        "\n",
        "print(diccionario.items())\n",
        "print(diccionario.keys())\n",
        "print(diccionario.values())\n",
        "print(diccionario.get(\"clave1\"))\n",
        "\n",
        "diccionario[\"clave3\"] = \"valor3\"\n",
        "print(diccionario)\n",
        "\n",
        "diccionario.setdefault(\"clave4\", \"valor4\")\n",
        "print(diccionario)\n",
        "\n",
        "\n",
        "\n"
      ],
      "metadata": {
        "colab": {
          "base_uri": "https://localhost:8080/"
        },
        "id": "f3pOSBaZiCBS",
        "outputId": "3d85d594-bb4a-40cc-d6fe-890a032a6853"
      },
      "execution_count": 94,
      "outputs": [
        {
          "output_type": "stream",
          "name": "stdout",
          "text": [
            "{'clave1': 'valor1', 'clave2': 'valor2'}\n",
            "dict_items([('clave1', 'valor1'), ('clave2', 'valor2')])\n",
            "dict_keys(['clave1', 'clave2'])\n",
            "dict_values(['valor1', 'valor2'])\n",
            "valor1\n",
            "{'clave1': 'valor1', 'clave2': 'valor2', 'clave3': 'valor3'}\n",
            "{'clave1': 'valor1', 'clave2': 'valor2', 'clave3': 'valor3', 'clave4': 'valor4'}\n"
          ]
        }
      ]
    },
    {
      "cell_type": "code",
      "source": [
        "lista_de_iterables = [\n",
        "    [1, 2, 3],  # Lista\n",
        "    {'a': 1, 'b': 2},  # Diccionario\n",
        "    (4, 5, 6),  # Tupla, no permite modificación\n",
        "    {7, 8, 9, 8}   # Set, no admite valores repetidos\n",
        "]\n",
        "\n",
        "print(lista_de_iterables)\n",
        "lista_de_conjunto = lista_de_iterables[3]\n",
        "lista_de_conjunto\n",
        "# lista_de_iterables[2].append(1)"
      ],
      "metadata": {
        "colab": {
          "base_uri": "https://localhost:8080/"
        },
        "id": "uXfJVqoal1nh",
        "outputId": "c382bf1d-16ff-4a6f-c841-230aff65af36"
      },
      "execution_count": 95,
      "outputs": [
        {
          "output_type": "stream",
          "name": "stdout",
          "text": [
            "[[1, 2, 3], {'a': 1, 'b': 2}, (4, 5, 6), {8, 9, 7}]\n"
          ]
        },
        {
          "output_type": "execute_result",
          "data": {
            "text/plain": [
              "{7, 8, 9}"
            ]
          },
          "metadata": {},
          "execution_count": 95
        }
      ]
    },
    {
      "cell_type": "code",
      "source": [
        "#Crea una lista que tenga al menos 5 libros, con cada libro como diccionario\n",
        "libros_programacion =  [\n",
        "    {\"título\": \"Python Básico\", \"autor\": \"Aquiles Baeza\", \"precio\": 25.99, \"stock\": 5},\n",
        "    {\"título\": \"Data Science\", \"autor\": \"Ana Gómez\", \"precio\": 35.50, \"stock\": 3},\n",
        "    {\"título\": \"Web Development\", \"autor\": \"Carlos Pérez\", \"precio\": 29.99, \"stock\": 7},\n",
        "    {\"título\": \"Machine Learning\", \"autor\": \"Luis Fernández\", \"precio\": 39.99, \"stock\": 0},\n",
        "    {\"título\": \"Cloud Computing\", \"autor\": \"Erasmo Flowers\", \"precio\": 22.00, \"stock\": 4},\n",
        "    {\"título\": \"JavaScript\", \"autor\": \"Evaristo Páramos\", \"precio\": 25.99, \"stock\": 0},\n",
        "]\n",
        "\n",
        "libros_poesia_chilena = [\n",
        "    {\"título\": \"Altazor\", \"autor\": \"Vicente Huidobro\", \"precio\": 22.00, \"stock\": 5},\n",
        "    {\"título\": \"Canto General\", \"autor\": \"Pablo Neruda\", \"precio\": 20.00, \"stock\": 0},\n",
        "    {\"título\": \"Antología personal\", \"autor\": \"Nicanor Parra\", \"precio\": 17.50, \"stock\": 5},\n",
        "    {\"título\": \"La cueca sola\", \"autor\": \"Violeta Parra\", \"precio\": 14.00, \"stock\": 5},\n",
        "    {\"título\": \"Epopeya de las comidas y bebidas de Chile\", \"autor\": \"Pablo de Rokha\", \"precio\": 25.00, \"stock\": 5},\n",
        "    {\"título\": \"Antología de Poesía Chilena\", \"autor\": \"Eduardo Anguita\", \"precio\": 30.00, \"stock\": 5},\n",
        "    {\"título\": \"La pieza oscura y otros poemas\", \"autor\": \"Enrique Lihn\", \"precio\": 28.00, \"stock\": 5}\n",
        "]\n",
        "\n",
        "biblioteca = libros_programacion.copy() #concatenar lista\n",
        "biblioteca.extend(libros_poesia_chilena)\n",
        "for libro in biblioteca:\n",
        "  print(libro)\n",
        "print(biblioteca)\n",
        "type(biblioteca)\n",
        "\n"
      ],
      "metadata": {
        "id": "U88kSMPIpU22",
        "colab": {
          "base_uri": "https://localhost:8080/"
        },
        "outputId": "130bd005-58d8-43df-b48f-d0585e289bc5"
      },
      "execution_count": 139,
      "outputs": [
        {
          "output_type": "stream",
          "name": "stdout",
          "text": [
            "{'título': 'Python Básico', 'autor': 'Aquiles Baeza', 'precio': 25.99, 'stock': 5}\n",
            "{'título': 'Data Science', 'autor': 'Ana Gómez', 'precio': 35.5, 'stock': 3}\n",
            "{'título': 'Web Development', 'autor': 'Carlos Pérez', 'precio': 29.99, 'stock': 7}\n",
            "{'título': 'Machine Learning', 'autor': 'Luis Fernández', 'precio': 39.99, 'stock': 0}\n",
            "{'título': 'Cloud Computing', 'autor': 'Erasmo Flowers', 'precio': 22.0, 'stock': 4}\n",
            "{'título': 'JavaScript', 'autor': 'Evaristo Páramos', 'precio': 25.99, 'stock': 0}\n",
            "{'título': 'Altazor', 'autor': 'Vicente Huidobro', 'precio': 22.0, 'stock': 5}\n",
            "{'título': 'Canto General', 'autor': 'Pablo Neruda', 'precio': 20.0, 'stock': 0}\n",
            "{'título': 'Antología personal', 'autor': 'Nicanor Parra', 'precio': 17.5, 'stock': 5}\n",
            "{'título': 'La cueca sola', 'autor': 'Violeta Parra', 'precio': 14.0, 'stock': 5}\n",
            "{'título': 'Epopeya de las comidas y bebidas de Chile', 'autor': 'Pablo de Rokha', 'precio': 25.0, 'stock': 5}\n",
            "{'título': 'Antología de Poesía Chilena', 'autor': 'Eduardo Anguita', 'precio': 30.0, 'stock': 5}\n",
            "{'título': 'La pieza oscura y otros poemas', 'autor': 'Enrique Lihn', 'precio': 28.0, 'stock': 5}\n",
            "[{'título': 'Python Básico', 'autor': 'Aquiles Baeza', 'precio': 25.99, 'stock': 5}, {'título': 'Data Science', 'autor': 'Ana Gómez', 'precio': 35.5, 'stock': 3}, {'título': 'Web Development', 'autor': 'Carlos Pérez', 'precio': 29.99, 'stock': 7}, {'título': 'Machine Learning', 'autor': 'Luis Fernández', 'precio': 39.99, 'stock': 0}, {'título': 'Cloud Computing', 'autor': 'Erasmo Flowers', 'precio': 22.0, 'stock': 4}, {'título': 'JavaScript', 'autor': 'Evaristo Páramos', 'precio': 25.99, 'stock': 0}, {'título': 'Altazor', 'autor': 'Vicente Huidobro', 'precio': 22.0, 'stock': 5}, {'título': 'Canto General', 'autor': 'Pablo Neruda', 'precio': 20.0, 'stock': 0}, {'título': 'Antología personal', 'autor': 'Nicanor Parra', 'precio': 17.5, 'stock': 5}, {'título': 'La cueca sola', 'autor': 'Violeta Parra', 'precio': 14.0, 'stock': 5}, {'título': 'Epopeya de las comidas y bebidas de Chile', 'autor': 'Pablo de Rokha', 'precio': 25.0, 'stock': 5}, {'título': 'Antología de Poesía Chilena', 'autor': 'Eduardo Anguita', 'precio': 30.0, 'stock': 5}, {'título': 'La pieza oscura y otros poemas', 'autor': 'Enrique Lihn', 'precio': 28.0, 'stock': 5}]\n"
          ]
        },
        {
          "output_type": "execute_result",
          "data": {
            "text/plain": [
              "list"
            ]
          },
          "metadata": {},
          "execution_count": 139
        }
      ]
    },
    {
      "cell_type": "markdown",
      "source": [
        "##2.-Control de Flujo\n",
        "\n",
        "* Implementar una función llamada mostrar_libros_disponibles()\n",
        "* Debe recorrer la lista de libros y mostrar los libros que tienen más de una unidad\n",
        "* utilizar sentencia for y condicón if"
      ],
      "metadata": {
        "id": "n9qFSTeurt8h"
      }
    },
    {
      "cell_type": "markdown",
      "source": [
        "###Ciclo for"
      ],
      "metadata": {
        "id": "TSkLJEQDy26c"
      }
    },
    {
      "cell_type": "code",
      "source": [
        "# Iterar sobre una lista\n",
        "frutas = [\"manzana\", \"banana\", \"cereza\"]\n",
        "for fruta in frutas:\n",
        "  print(fruta)\n",
        "\n",
        "for indice, fruta in enumerate(frutas):\n",
        "  print(f\"Índice: {indice}, Fruta: {fruta}\")\n",
        "\n",
        "# Iterar sobre una cadena\n",
        "for caracter in \"Python\":\n",
        "  print(caracter)\n",
        "\n",
        "# Iterar sobre un rango de números\n",
        "for i in range(3): # range(3) genera números del 0 al 2\n",
        "  print(i)\n",
        "\n"
      ],
      "metadata": {
        "colab": {
          "base_uri": "https://localhost:8080/"
        },
        "id": "mkHoMtxfy9vf",
        "outputId": "054d6d3f-bb7e-4534-d19d-cd91d06464bb"
      },
      "execution_count": 97,
      "outputs": [
        {
          "output_type": "stream",
          "name": "stdout",
          "text": [
            "manzana\n",
            "banana\n",
            "cereza\n",
            "Índice: 0, Fruta: manzana\n",
            "Índice: 1, Fruta: banana\n",
            "Índice: 2, Fruta: cereza\n",
            "P\n",
            "y\n",
            "t\n",
            "h\n",
            "o\n",
            "n\n",
            "0\n",
            "1\n",
            "2\n"
          ]
        }
      ]
    },
    {
      "cell_type": "markdown",
      "source": [
        "###Condicional if, elif, else"
      ],
      "metadata": {
        "id": "2_rmum8hzG4p"
      }
    },
    {
      "cell_type": "code",
      "source": [
        "score = 85\n",
        "\n",
        "if score >= 90: #si esta  condición es verdadera, entra acá, de no serlo, continúa  hacia abajo\n",
        "  print(\"Tienes una A\")\n",
        "elif score >= 80:\n",
        "  print(\"Tienes una B\")\n",
        "elif score >= 70:\n",
        "  print(\"Tienes una C\")\n",
        "else:\n",
        "  print(\"Necesitas mejorar\")"
      ],
      "metadata": {
        "colab": {
          "base_uri": "https://localhost:8080/"
        },
        "id": "ert0I89PzGVt",
        "outputId": "b8c2d217-7dd6-4ab6-d7ca-7eb1175ba1a5"
      },
      "execution_count": 98,
      "outputs": [
        {
          "output_type": "stream",
          "name": "stdout",
          "text": [
            "Tienes una B\n"
          ]
        }
      ]
    },
    {
      "cell_type": "markdown",
      "source": [
        "###Volviendo a la resolución del problema"
      ],
      "metadata": {
        "id": "P9NsKLbZ0yBU"
      }
    },
    {
      "cell_type": "code",
      "source": [
        "libros_disponibles_global = []\n",
        "\n",
        "for libro in libros_programacion:\n",
        "  if libro[\"stock\"] > 0:\n",
        "    libros_disponibles_global.append(libro)\n",
        "    print(libro)\n",
        "\n",
        "for libro in libros_poesia_chilena:\n",
        "  if libro[\"stock\"] > 0:\n",
        "    libros_disponibles_global.append(libro)\n",
        "    print(libro)\n",
        "\n",
        "for libro in libros_poesia_chilena:\n",
        "  if libro[\"stock\"] > 0:\n",
        "    libros_disponibles_global.append(libro)\n",
        "    print(libro)\n",
        "\n",
        "\n",
        "#problema, cada vez que quiera imprimir un listado de libros, debo volver a escribir un ciclo for y utilizar el condicional if...\n",
        "#hacerlo de esa manera me da flojera y es poco eficiente\n",
        "#además que duplica los valores, me debe mostrar la información de cada libro, pero no duplicarlos"
      ],
      "metadata": {
        "colab": {
          "base_uri": "https://localhost:8080/"
        },
        "id": "J6gUI3a-sPwz",
        "outputId": "a2410e9d-be9b-4244-b46f-75d8cadfbf55"
      },
      "execution_count": 144,
      "outputs": [
        {
          "output_type": "stream",
          "name": "stdout",
          "text": [
            "{'título': 'Python Básico', 'autor': 'Aquiles Baeza', 'precio': 25.99, 'stock': 5}\n",
            "{'título': 'Data Science', 'autor': 'Ana Gómez', 'precio': 35.5, 'stock': 3}\n",
            "{'título': 'Web Development', 'autor': 'Carlos Pérez', 'precio': 29.99, 'stock': 7}\n",
            "{'título': 'Cloud Computing', 'autor': 'Erasmo Flowers', 'precio': 22.0, 'stock': 4}\n",
            "{'título': 'Altazor', 'autor': 'Vicente Huidobro', 'precio': 22.0, 'stock': 5}\n",
            "{'título': 'Antología personal', 'autor': 'Nicanor Parra', 'precio': 17.5, 'stock': 5}\n",
            "{'título': 'La cueca sola', 'autor': 'Violeta Parra', 'precio': 14.0, 'stock': 5}\n",
            "{'título': 'Epopeya de las comidas y bebidas de Chile', 'autor': 'Pablo de Rokha', 'precio': 25.0, 'stock': 5}\n",
            "{'título': 'Antología de Poesía Chilena', 'autor': 'Eduardo Anguita', 'precio': 30.0, 'stock': 5}\n",
            "{'título': 'La pieza oscura y otros poemas', 'autor': 'Enrique Lihn', 'precio': 28.0, 'stock': 5}\n",
            "{'título': 'Altazor', 'autor': 'Vicente Huidobro', 'precio': 22.0, 'stock': 5}\n",
            "{'título': 'Antología personal', 'autor': 'Nicanor Parra', 'precio': 17.5, 'stock': 5}\n",
            "{'título': 'La cueca sola', 'autor': 'Violeta Parra', 'precio': 14.0, 'stock': 5}\n",
            "{'título': 'Epopeya de las comidas y bebidas de Chile', 'autor': 'Pablo de Rokha', 'precio': 25.0, 'stock': 5}\n",
            "{'título': 'Antología de Poesía Chilena', 'autor': 'Eduardo Anguita', 'precio': 30.0, 'stock': 5}\n",
            "{'título': 'La pieza oscura y otros poemas', 'autor': 'Enrique Lihn', 'precio': 28.0, 'stock': 5}\n",
            "\n",
            "Libros con stock\n",
            "{'título': 'Python Básico', 'autor': 'Aquiles Baeza', 'precio': 25.99, 'stock': 5}\n",
            "{'título': 'Data Science', 'autor': 'Ana Gómez', 'precio': 35.5, 'stock': 3}\n",
            "{'título': 'Web Development', 'autor': 'Carlos Pérez', 'precio': 29.99, 'stock': 7}\n",
            "{'título': 'Cloud Computing', 'autor': 'Erasmo Flowers', 'precio': 22.0, 'stock': 4}\n",
            "{'título': 'Altazor', 'autor': 'Vicente Huidobro', 'precio': 22.0, 'stock': 5}\n",
            "{'título': 'Antología personal', 'autor': 'Nicanor Parra', 'precio': 17.5, 'stock': 5}\n",
            "{'título': 'La cueca sola', 'autor': 'Violeta Parra', 'precio': 14.0, 'stock': 5}\n",
            "{'título': 'Epopeya de las comidas y bebidas de Chile', 'autor': 'Pablo de Rokha', 'precio': 25.0, 'stock': 5}\n",
            "{'título': 'Antología de Poesía Chilena', 'autor': 'Eduardo Anguita', 'precio': 30.0, 'stock': 5}\n",
            "{'título': 'La pieza oscura y otros poemas', 'autor': 'Enrique Lihn', 'precio': 28.0, 'stock': 5}\n",
            "{'título': 'Altazor', 'autor': 'Vicente Huidobro', 'precio': 22.0, 'stock': 5}\n",
            "{'título': 'Antología personal', 'autor': 'Nicanor Parra', 'precio': 17.5, 'stock': 5}\n",
            "{'título': 'La cueca sola', 'autor': 'Violeta Parra', 'precio': 14.0, 'stock': 5}\n",
            "{'título': 'Epopeya de las comidas y bebidas de Chile', 'autor': 'Pablo de Rokha', 'precio': 25.0, 'stock': 5}\n",
            "{'título': 'Antología de Poesía Chilena', 'autor': 'Eduardo Anguita', 'precio': 30.0, 'stock': 5}\n",
            "{'título': 'La pieza oscura y otros poemas', 'autor': 'Enrique Lihn', 'precio': 28.0, 'stock': 5}\n"
          ]
        }
      ]
    },
    {
      "cell_type": "code",
      "source": [
        "#solución: utilizar una función que pueda invocar a mi voluntad y pasarle el listado de libros que yo requiera\n",
        "#ventajas: escribo la funcion una sola vez, y la puedo invocar las veces que yo quiera\n",
        "\n",
        "#sintaxis: toda función comienza con def\n",
        "#luego viene el nombre de la función\n",
        "#y luego entre paréntesis el o los parámetros requeridos\n",
        "\n",
        "#existen funciones que no requieren parámetros\n",
        "def saludar():\n",
        "  \"\"\"Esta función saluda\"\"\"\n",
        "  print(f\"¡Hola!\")\n",
        "\n",
        "# Llamar a la función\n",
        "saludar()\n",
        "\n",
        "#con un parámetro\n",
        "def saludar(nombre):\n",
        "  \"\"\"Esta función saluda a la persona pasada como parámetro\"\"\"\n",
        "  print(f\"¡Hola, {nombre}!\")\n",
        "\n",
        "# Llamar a la función\n",
        "saludar(\"Juan\")\n",
        "\n",
        "#con dos  parámetros\n",
        "def saludar(nombre, edad):\n",
        "  \"\"\"Esta función saluda a la persona pasada como parámetro y le dice la edad pasada como parámetro\"\"\"\n",
        "  print(f\"¡Hola, {nombre}! Tienes {edad} años.\")\n",
        "\n",
        "# Llamar a la función\n",
        "saludar(\"Juan\", 30)\n",
        "\n",
        "\n"
      ],
      "metadata": {
        "colab": {
          "base_uri": "https://localhost:8080/"
        },
        "id": "N7oZJX7rvICH",
        "outputId": "490872d3-f7ad-472e-e769-2c82b9d4c90c"
      },
      "execution_count": 100,
      "outputs": [
        {
          "output_type": "stream",
          "name": "stdout",
          "text": [
            "¡Hola!\n",
            "¡Hola, Juan!\n",
            "¡Hola, Juan! Tienes 30 años.\n"
          ]
        }
      ]
    },
    {
      "cell_type": "code",
      "source": [
        "# libros_disponibles = []     *veamos las diferencias entre usar variables globales y locales\n",
        "\n",
        "def mostrar_libros_disponibles(lista_libros):\n",
        "\n",
        "  libros_disponibles = []\n",
        "  for libro in lista_libros:\n",
        "    if libro[\"stock\"] > 0:\n",
        "      libros_disponibles.append(libro)\n",
        "  return libros_disponibles\n",
        "\n",
        "mostrar_libros_disponibles(libros_programacion)\n",
        "mostrar_libros_disponibles(libros_programacion)\n",
        "mostrar_libros_disponibles(libros_programacion)\n",
        "for libro in mostrar_libros_disponibles(libros_programacion):\n",
        "  print(libro)\n",
        "\n",
        "\n",
        "\n",
        "\n"
      ],
      "metadata": {
        "colab": {
          "base_uri": "https://localhost:8080/"
        },
        "id": "wQ8_4ORIyilh",
        "outputId": "020e9779-fb8b-4810-adcf-806a7fbb3574"
      },
      "execution_count": 147,
      "outputs": [
        {
          "output_type": "stream",
          "name": "stdout",
          "text": [
            "{'título': 'Python Básico', 'autor': 'Aquiles Baeza', 'precio': 25.99, 'stock': 5}\n",
            "{'título': 'Data Science', 'autor': 'Ana Gómez', 'precio': 35.5, 'stock': 3}\n",
            "{'título': 'Web Development', 'autor': 'Carlos Pérez', 'precio': 29.99, 'stock': 7}\n",
            "{'título': 'Cloud Computing', 'autor': 'Erasmo Flowers', 'precio': 22.0, 'stock': 4}\n"
          ]
        }
      ]
    },
    {
      "cell_type": "markdown",
      "source": [
        "##3.- Condiciones y operadores\n",
        "  * Solicitar rango mínimo y máximo de precios\n",
        "  * Utilizar if, elif, else para filtrar los libros ingresados\n",
        "  * Mostrarlos por pantalla"
      ],
      "metadata": {
        "id": "ahaUacp95Irk"
      }
    },
    {
      "cell_type": "code",
      "source": [
        "minimo = float(input(\"Ingrese el precio mínimo: \")) #con input solicitamos un valor y luego lo convertimos a float (decimal)\n",
        "maximo = float(input(\"Ingrese el precio máximo: \"))\n",
        "\n",
        "for libro in libros_programacion:\n",
        "  if libro[\"precio\"] >= minimo and libro[\"precio\"] <= maximo:  #and, se deben cumplir ambas condiciones para que entre\n",
        "    # print(libro)\n",
        "    print(f\"- {libro['título']} ({libro['autor']}), ${libro['precio']}, Stock: {libro['stock']}\") #sólo estoy imprimiendo, no estoy guardando los libros filtrados\n",
        "\n",
        "\n",
        "# for libro in libros_programacion:\n",
        "#   if libro[\"precio\"] >= minimo:\n",
        "#     if libro[\"precio\"] <= maximo:\n",
        "#       print(f\"- {libro['título']} ({libro['autor']}), ${libro['precio']}, Stock: {libro['stock']}\")\n",
        "\n",
        "print(\"\\n\")\n",
        "for libro in libros_programacion:\n",
        "    print(libro)"
      ],
      "metadata": {
        "colab": {
          "base_uri": "https://localhost:8080/"
        },
        "id": "gbPpo_xO6sYC",
        "outputId": "834db8cb-dcd3-4cd9-8d26-df9b09b69629"
      },
      "execution_count": 102,
      "outputs": [
        {
          "output_type": "stream",
          "name": "stdout",
          "text": [
            "Ingrese el precio mínimo: 5\n",
            "Ingrese el precio máximo: 26\n",
            "- Python Básico (Aquiles Baeza), $25.99, Stock: 5\n",
            "- Cloud Computing (Erasmo Flowers), $22.0, Stock: 4\n",
            "- JavaScript (Evaristo Páramos), $25.99, Stock: 0\n",
            "\n",
            "\n",
            "{'título': 'Python Básico', 'autor': 'Aquiles Baeza', 'precio': 25.99, 'stock': 5}\n",
            "{'título': 'Data Science', 'autor': 'Ana Gómez', 'precio': 35.5, 'stock': 3}\n",
            "{'título': 'Web Development', 'autor': 'Carlos Pérez', 'precio': 29.99, 'stock': 7}\n",
            "{'título': 'Machine Learning', 'autor': 'Luis Fernández', 'precio': 39.99, 'stock': 0}\n",
            "{'título': 'Cloud Computing', 'autor': 'Erasmo Flowers', 'precio': 22.0, 'stock': 4}\n",
            "{'título': 'JavaScript', 'autor': 'Evaristo Páramos', 'precio': 25.99, 'stock': 0}\n"
          ]
        }
      ]
    },
    {
      "cell_type": "code",
      "source": [
        "minimo = float(input(\"Ingrese el precio mínimo: \")) #el problema es que estamos imprimiendo, pero no guardando los libros filtrados\n",
        "maximo = float(input(\"Ingrese el precio máximo: \"))\n",
        "libros_filtrados_por_precio = []   #acá guardaremos nuestros libros filtrados por precios, de momento es un estante vacío\n",
        "\n",
        "for libro in libros_programacion:\n",
        "  if libro[\"precio\"] >= minimo and libro[\"precio\"] <= maximo:\n",
        "    libros_filtrados_por_precio.append(libro)\n",
        "    # print(libro)\n",
        "    print(f\"- {libro['título']} ({libro['autor']}), ${libro['precio']}, Stock: {libro['stock']}\")\n",
        "\n",
        "\n",
        "print(f\"\\nLibros filtrados por precio:\")\n",
        "for libro in libros_filtrados_por_precio:\n",
        "    print(libro)\n",
        "\n",
        "print(\"\\nLibros de programación de la lista original:\")\n",
        "for libro in libros_programacion:\n",
        "    print(f\"{libro}\")\n",
        "\n"
      ],
      "metadata": {
        "colab": {
          "base_uri": "https://localhost:8080/"
        },
        "id": "X0UpHrbfCulQ",
        "outputId": "192185a1-b15f-4320-efe2-86532bda28f2"
      },
      "execution_count": 103,
      "outputs": [
        {
          "output_type": "stream",
          "name": "stdout",
          "text": [
            "Ingrese el precio mínimo: 5\n",
            "Ingrese el precio máximo: 26\n",
            "- Python Básico (Aquiles Baeza), $25.99, Stock: 5\n",
            "- Cloud Computing (Erasmo Flowers), $22.0, Stock: 4\n",
            "- JavaScript (Evaristo Páramos), $25.99, Stock: 0\n",
            "\n",
            "Libros filtrados por precio:\n",
            "{'título': 'Python Básico', 'autor': 'Aquiles Baeza', 'precio': 25.99, 'stock': 5}\n",
            "{'título': 'Cloud Computing', 'autor': 'Erasmo Flowers', 'precio': 22.0, 'stock': 4}\n",
            "{'título': 'JavaScript', 'autor': 'Evaristo Páramos', 'precio': 25.99, 'stock': 0}\n",
            "\n",
            "Libros de programación de la lista original:\n",
            "{'título': 'Python Básico', 'autor': 'Aquiles Baeza', 'precio': 25.99, 'stock': 5}\n",
            "{'título': 'Data Science', 'autor': 'Ana Gómez', 'precio': 35.5, 'stock': 3}\n",
            "{'título': 'Web Development', 'autor': 'Carlos Pérez', 'precio': 29.99, 'stock': 7}\n",
            "{'título': 'Machine Learning', 'autor': 'Luis Fernández', 'precio': 39.99, 'stock': 0}\n",
            "{'título': 'Cloud Computing', 'autor': 'Erasmo Flowers', 'precio': 22.0, 'stock': 4}\n",
            "{'título': 'JavaScript', 'autor': 'Evaristo Páramos', 'precio': 25.99, 'stock': 0}\n"
          ]
        }
      ]
    },
    {
      "cell_type": "code",
      "source": [
        "#ahora ocupamos el código del bloque anterior para generar las funciones\n",
        "\n",
        "def consultar_rango_precios():\n",
        "  minimo = float(input(\"Ingrese el precio mínimo: \"))\n",
        "  maximo = float(input(\"Ingrese el precio máximo: \"))\n",
        "\n",
        "  return [minimo, maximo]\n",
        "\n",
        "\n",
        "def filtrar_libros_por_precio(lista_libros, rango_de_precios):\n",
        "    libros_filtrados = []\n",
        "    for libro in lista_libros:\n",
        "        if rango_de_precios[0] <= libro[\"precio\"] <= rango_de_precios[1]:\n",
        "            libros_filtrados.append(libro)\n",
        "    return libros_filtrados\n",
        "\n",
        "# rango = consultar_rango_precios()\n",
        "# libros_filtrados = filtrar_libros_por_precio(libros_programacion, rango)\n",
        "\n",
        "libros_filtrados_por_precio = filtrar_libros_por_precio(libros_programacion, consultar_rango_precios())\n",
        "\n",
        "print(f\"\\nLibros filtrados por precio:\")\n",
        "for libro in libros_filtrados_por_precio:\n",
        "    print(f\"- {libro['título']} ({libro['autor']}), ${libro['precio']}, Stock: {libro['stock']}\")\n",
        "# filtrar_libros_por_precio(libros_programacion, consultar_rango_precios())\n"
      ],
      "metadata": {
        "colab": {
          "base_uri": "https://localhost:8080/"
        },
        "id": "C7tjEpvsAfMK",
        "outputId": "1326695e-ce6b-4741-9159-5f973730b87e"
      },
      "execution_count": 108,
      "outputs": [
        {
          "output_type": "stream",
          "name": "stdout",
          "text": [
            "Ingrese el precio mínimo: 5\n",
            "Ingrese el precio máximo: 26\n",
            "\n",
            "Libros filtrados por precio:\n",
            "- Python Básico (Aquiles Baeza), $25.99, Stock: 5\n",
            "- Cloud Computing (Erasmo Flowers), $22.0, Stock: 4\n",
            "- JavaScript (Evaristo Páramos), $25.99, Stock: 0\n"
          ]
        }
      ]
    },
    {
      "cell_type": "code",
      "source": [
        "#otra manera de conseguir lo mismo pero usando solo una funcion\n",
        "\n",
        "def filtrar_libros_por_precio(lista_libros):\n",
        "    minimo = float(input(\"Ingrese el precio mínimo: \"))\n",
        "    maximo = float(input(\"Ingrese el precio máximo: \"))\n",
        "    libros_filtrados = []\n",
        "    for libro in lista_libros:\n",
        "        if minimo <= libro[\"precio\"] <= maximo:\n",
        "            libros_filtrados.append(libro)\n",
        "    return libros_filtrados\n",
        "\n",
        "libros_filtrados_por_precio = filtrar_libros_por_precio(libros_programacion)\n",
        "\n",
        "print(f\"\\nLibros filtrados por precio:\")\n",
        "for libro in libros_filtrados_por_precio:\n",
        "    print(f\"- {libro['título']} ({libro['autor']}), ${libro['precio']}, Stock: {libro['stock']}\")"
      ],
      "metadata": {
        "colab": {
          "base_uri": "https://localhost:8080/"
        },
        "id": "As6-TiqsPolu",
        "outputId": "c52854f9-712e-4ad7-a060-09549a4ed135"
      },
      "execution_count": 109,
      "outputs": [
        {
          "output_type": "stream",
          "name": "stdout",
          "text": [
            "Ingrese el precio mínimo: 5\n",
            "Ingrese el precio máximo: 26\n",
            "\n",
            "Libros filtrados por precio:\n",
            "- Python Básico (Aquiles Baeza), $25.99, Stock: 5\n",
            "- Cloud Computing (Erasmo Flowers), $22.0, Stock: 4\n",
            "- JavaScript (Evaristo Páramos), $25.99, Stock: 0\n"
          ]
        }
      ]
    },
    {
      "cell_type": "markdown",
      "source": [],
      "metadata": {
        "id": "GwrOy--Q5Cuw"
      }
    },
    {
      "cell_type": "markdown",
      "source": [
        "##4.- Función personalizada para simular compra\n",
        "\n",
        "  * Crear función comprar_libros(titulo, cantidad)\n",
        "  * Verificar inventario y si la cantidad deseada está disponible\n",
        "  * Si la compra es válida, restar la cantidad comprada al inventario\n",
        "  * Si la cantidad solicitada es mayor al inventario, mostrar mensaje de error (sería mejor mostrar un mensaje que indique cuántas unidades quedan)\n",
        "  "
      ],
      "metadata": {
        "id": "4sZCytBgqXb3"
      }
    },
    {
      "cell_type": "code",
      "source": [
        "descuentos = {\"Evaristo Páramos\": 0.1, \"Aquiles Baeza\": 0.2}\n",
        "\n",
        "def comprar_libros(titulo, cantidad):\n",
        "    for libro in biblioteca:\n",
        "        if libro['título'] == titulo:\n",
        "            if libro['stock'] >= cantidad:\n",
        "                libro['stock'] -= cantidad\n",
        "\n",
        "                print(f\"Compra realizada. Se han comprado {cantidad} unidades de '{titulo}'. Stock restante: {libro['stock']}\")\n",
        "            else:\n",
        "                print(f\"No hay suficiente stock de '{titulo}'. Stock disponible: {libro['stock']}\")\n",
        "            return\n",
        "\n",
        "\n",
        "comprar_libros(\"Data Science\", 2)\n",
        "\n",
        "for libro in libros_programacion:\n",
        "  print(libro)\n",
        "\n"
      ],
      "metadata": {
        "id": "5BM1E2-oqgI6",
        "outputId": "7e289c4c-6082-4ce4-c521-7e9c96d4fbf5",
        "colab": {
          "base_uri": "https://localhost:8080/"
        }
      },
      "execution_count": 152,
      "outputs": [
        {
          "output_type": "stream",
          "name": "stdout",
          "text": [
            "Compra realizada. Se han comprado 2 unidades de 'Data Science'. Stock restante: 1\n",
            "{'título': 'Python Básico', 'autor': 'Aquiles Baeza', 'precio': 25.99, 'stock': 5}\n",
            "{'título': 'Data Science', 'autor': 'Ana Gómez', 'precio': 35.5, 'stock': 1}\n",
            "{'título': 'Web Development', 'autor': 'Carlos Pérez', 'precio': 29.99, 'stock': 7}\n",
            "{'título': 'Machine Learning', 'autor': 'Luis Fernández', 'precio': 39.99, 'stock': 0}\n",
            "{'título': 'Cloud Computing', 'autor': 'Erasmo Flowers', 'precio': 22.0, 'stock': 4}\n",
            "{'título': 'JavaScript', 'autor': 'Evaristo Páramos', 'precio': 25.99, 'stock': 0}\n"
          ]
        }
      ]
    },
    {
      "cell_type": "code",
      "source": [],
      "metadata": {
        "id": "P6XcFEN1uiaY"
      },
      "execution_count": null,
      "outputs": []
    }
  ]
}