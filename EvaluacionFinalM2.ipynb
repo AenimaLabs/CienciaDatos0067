{
  "nbformat": 4,
  "nbformat_minor": 0,
  "metadata": {
    "colab": {
      "provenance": [],
      "authorship_tag": "ABX9TyOXQKPwwp59ZMlJT4gzhq/L",
      "include_colab_link": true
    },
    "kernelspec": {
      "name": "python3",
      "display_name": "Python 3"
    },
    "language_info": {
      "name": "python"
    }
  },
  "cells": [
    {
      "cell_type": "markdown",
      "metadata": {
        "id": "view-in-github",
        "colab_type": "text"
      },
      "source": [
        "<a href=\"https://colab.research.google.com/github/AenimaLabs/CienciaDatos0067/blob/main/EvaluacionFinalM2.ipynb\" target=\"_parent\"><img src=\"https://colab.research.google.com/assets/colab-badge.svg\" alt=\"Open In Colab\"/></a>"
      ]
    },
    {
      "cell_type": "markdown",
      "source": [
        "#Libros y Bytes"
      ],
      "metadata": {
        "id": "DJ5DUlBQach-"
      }
    },
    {
      "cell_type": "markdown",
      "source": [
        "##Requerimientos:\n",
        "\n",
        "\n",
        "\n"
      ],
      "metadata": {
        "id": "Htw3cw-ialwf"
      }
    },
    {
      "cell_type": "markdown",
      "source": [
        "###1.- Definir variables básicas y tipos de datos:\n",
        "  * Crea una lista que contenga al menos 5 libros\n",
        "  * Cada libro sea un diccionario\n",
        "  * Con los siguientes atributos:\n",
        "    * título: cadena de caracteres\n",
        "    * autor: cadena de caracteres\n",
        "    * precio: decimal\n",
        "    * cantidad en stock: entero  "
      ],
      "metadata": {
        "id": "5FrXDMUgbj4y"
      }
    },
    {
      "cell_type": "code",
      "source": [
        "# principales métodos de una lista:\n",
        "# append(): Agrega un elemento al final de la lista.\n",
        "# extend(): Agrega todos los elementos de un iterable (como otra lista) al final de la lista actual.\n",
        "# insert(): Inserta un elemento en un índice específico.\n",
        "# remove(): Elimina la primera aparición de un elemento específico.\n",
        "# pop(): Elimina y devuelve el elemento en un índice específico.\n",
        "# clear(): Elimina todos los elementos de la lista.\n",
        "# index(): Devuelve el índice de la primera aparición de un elemento.\n",
        "# count(): Devuelve el número de veces que un elemento aparece en la lista.\n",
        "# sort(): Ordena la lista en orden ascendente (o descendente si reverse=True).\n",
        "# reverse(): Invierte el orden de la lista.\n",
        "# copy(): Devuelve una copia superficial de la lista."
      ],
      "metadata": {
        "id": "-6TiM5zOdJqR"
      },
      "execution_count": null,
      "outputs": []
    },
    {
      "cell_type": "code",
      "execution_count": 47,
      "metadata": {
        "colab": {
          "base_uri": "https://localhost:8080/"
        },
        "id": "ChWd_yfRaY-8",
        "outputId": "9c367f7e-fd51-4163-c949-7de80c94d3fc"
      },
      "outputs": [
        {
          "output_type": "stream",
          "name": "stdout",
          "text": [
            "*El elemnto ubicado en el índice 2 es: Python\n",
            "*La cantidad de elementos presentes en la lista es: 5\n",
            "1\n",
            "M\n",
            "Python\n",
            "2.3\n",
            "False\n",
            "[1, 'M', 'Python', 2.3, False, 'Naranjas']\n",
            "[1, 'M', 'Naranjas', 'Python', 2.3, False, 'Naranjas']\n",
            "[1, 'M', 'Python', 2.3, False, 'Naranjas']\n",
            "[1, 'M', 2.3, False, 'Naranjas']\n",
            "[]\n"
          ]
        }
      ],
      "source": [
        "#        0   1      2       3     4     posiciones en el  índice\n",
        "lista = [1, \"M\", \"Python\", 2.3, False]\n",
        "print(f\"*El elemnto ubicado en el índice 2 es: {lista[2]}\")\n",
        "\n",
        "largo_lista = len(lista) #nos entrega la cantidad de elementos presentes\n",
        "print(f\"*La cantidad de elementos presentes en la lista es: {largo_lista}\")\n",
        "\n",
        "#recorrer una lista\n",
        "for elemento in lista:\n",
        "  print(elemento)\n",
        "\n",
        "lista.append(\"Naranjas\") #añadir elemento en la lista\n",
        "print(lista)\n",
        "\n",
        "lista.insert(2,\"Naranjas\") #agrego elemento en un índice específico\n",
        "print(lista)\n",
        "\n",
        "lista.remove(\"Naranjas\") #remueve el primer valor que encuentre igual a Naranjas\n",
        "print(lista)\n",
        "\n",
        "lista.pop(2)\n",
        "print(lista)\n",
        "\n",
        "lista.clear()\n",
        "print(lista)"
      ]
    },
    {
      "cell_type": "code",
      "source": [
        "# principales métodos de un diccionario:\n",
        "# clear(): Elimina todos los elementos del diccionario.\n",
        "# copy(): Devuelve una copia superficial del diccionario.\n",
        "# fromkeys(keys, value): Crea un nuevo diccionario con las claves especificadas y un valor opcional.\n",
        "# get(key, default): Devuelve el valor de la clave especificada, o el valor por defecto si la clave no se encuentra.\n",
        "# items(): Devuelve una vista de los pares clave-valor del diccionario.\n",
        "# keys(): Devuelve una vista de las claves del diccionario.\n",
        "# pop(key, default): Elimina y devuelve el valor de la clave especificada. Si la clave no se encuentra, devuelve el valor por defecto si se proporciona.\n",
        "# popitem(): Elimina y devuelve un par clave-valor arbitrario (generalmente el último).\n",
        "# setdefault(key, default): Devuelve el valor de la clave especificada. Si la clave no se encuentra, la inserta con el valor por defecto y devuelve ese valor.\n",
        "# update(iterable): Agrega pares clave-valor de un iterable (como otro diccionario) al diccionario actual.\n",
        "# values(): Devuelve una vista de los valores del diccionario."
      ],
      "metadata": {
        "id": "RVefKBeUipgE"
      },
      "execution_count": null,
      "outputs": []
    },
    {
      "cell_type": "code",
      "source": [
        "diccionario = {\"clave1\" : \"valor1\", \"clave2\" : \"valor2\"}\n",
        "print(diccionario)\n",
        "\n",
        "print(diccionario.items())\n",
        "print(diccionario.keys())\n",
        "print(diccionario.values())\n",
        "print(diccionario.get(\"clave1\"))\n",
        "\n",
        "diccionario[\"clave3\"] = \"valor3\"\n",
        "print(diccionario)\n",
        "\n",
        "diccionario.setdefault(\"clave4\", \"valor4\")\n",
        "print(diccionario)\n",
        "\n",
        "\n",
        "\n"
      ],
      "metadata": {
        "colab": {
          "base_uri": "https://localhost:8080/"
        },
        "id": "f3pOSBaZiCBS",
        "outputId": "a2ac953c-1133-4bef-d721-9414c53981ed"
      },
      "execution_count": 42,
      "outputs": [
        {
          "output_type": "stream",
          "name": "stdout",
          "text": [
            "{'clave1': 'valor1', 'clave2': 'valor2'}\n",
            "dict_items([('clave1', 'valor1'), ('clave2', 'valor2')])\n",
            "dict_keys(['clave1', 'clave2'])\n",
            "dict_values(['valor1', 'valor2'])\n",
            "valor1\n",
            "{'clave1': 'valor1', 'clave2': 'valor2', 'clave3': 'valor3'}\n",
            "{'clave1': 'valor1', 'clave2': 'valor2', 'clave3': 'valor3', 'clave4': 'valor4'}\n"
          ]
        }
      ]
    },
    {
      "cell_type": "code",
      "source": [
        "lista_de_iterables = [\n",
        "    [1, 2, 3],  # Lista\n",
        "    {'a': 1, 'b': 2},  # Diccionario\n",
        "    (4, 5, 6),  # Tupla, no permite modificación\n",
        "    {7, 8, 9,8}   # Set, no admite valores repetidos\n",
        "]\n",
        "\n",
        "print(lista_de_iterables)"
      ],
      "metadata": {
        "colab": {
          "base_uri": "https://localhost:8080/"
        },
        "id": "uXfJVqoal1nh",
        "outputId": "8eef6e9d-7e86-4ac0-a137-a94195b1e449"
      },
      "execution_count": 49,
      "outputs": [
        {
          "output_type": "stream",
          "name": "stdout",
          "text": [
            "[[1, 2, 3], {'a': 1, 'b': 2}, (4, 5, 6), {8, 9, 7}]\n"
          ]
        }
      ]
    },
    {
      "cell_type": "code",
      "source": [
        "libros =  [\n",
        "    {\"título\": \"Python Básico\", \"autor\": \"Carlos Pérez\", \"precio\": 25.99, \"stock\": 5},\n",
        "    {\"título\": \"Data Science\", \"autor\": \"Ana Gómez\", \"precio\": 35.50, \"stock\": 3},\n",
        "    {\"título\": \"Web Development\", \"autor\": \"Carlos Pérez\", \"precio\": 29.99, \"stock\": 7},\n",
        "    {\"título\": \"Machine Learning\", \"autor\": \"Luis Fernández\", \"precio\": 39.99, \"stock\": 2},\n",
        "    {\"título\": \"Cloud Computing\", \"autor\": \"Ana Gómez\", \"precio\": 22.00, \"stock\": 4}\n",
        "]"
      ],
      "metadata": {
        "id": "U88kSMPIpU22"
      },
      "execution_count": null,
      "outputs": []
    },
    {
      "cell_type": "code",
      "source": [
        "\n",
        "\n",
        "print(\"****************\")\n",
        "\n",
        "#generar números\n",
        "for elemento in range(largo_lista):\n",
        "  print(elemento)"
      ],
      "metadata": {
        "colab": {
          "base_uri": "https://localhost:8080/"
        },
        "id": "aUMBzCskcHXf",
        "outputId": "12299c9c-b46f-4639-e9ba-377d07e6e8f4"
      },
      "execution_count": 20,
      "outputs": [
        {
          "output_type": "stream",
          "name": "stdout",
          "text": [
            "1\n",
            "M\n",
            "Python\n",
            "2.3\n",
            "False\n",
            "****************\n",
            "0\n",
            "1\n",
            "2\n",
            "3\n",
            "4\n"
          ]
        }
      ]
    },
    {
      "cell_type": "code",
      "source": [],
      "metadata": {
        "id": "F-N7lUL7iZWT"
      },
      "execution_count": null,
      "outputs": []
    },
    {
      "cell_type": "code",
      "metadata": {
        "id": "d0fe7e77"
      },
      "source": [
        "lista_de_iterables = [\n",
        "    [1, 2, 3],  # Lista\n",
        "    {'a': 1, 'b': 2},  # Diccionario\n",
        "    (4, 5, 6),  # Tupla\n",
        "    {7, 8, 9}   # Set\n",
        "]\n",
        "\n",
        "print(lista_de_iterables)"
      ],
      "execution_count": null,
      "outputs": []
    }
  ]
}