{
  "nbformat": 4,
  "nbformat_minor": 0,
  "metadata": {
    "colab": {
      "provenance": [],
      "authorship_tag": "ABX9TyMTEy/vs3zAym9CtFoWdwG+",
      "include_colab_link": true
    },
    "kernelspec": {
      "name": "python3",
      "display_name": "Python 3"
    },
    "language_info": {
      "name": "python"
    }
  },
  "cells": [
    {
      "cell_type": "markdown",
      "metadata": {
        "id": "view-in-github",
        "colab_type": "text"
      },
      "source": [
        "<a href=\"https://colab.research.google.com/github/AenimaLabs/CienciaDatos0067/blob/main/EvaluacionFinalM2.ipynb\" target=\"_parent\"><img src=\"https://colab.research.google.com/assets/colab-badge.svg\" alt=\"Open In Colab\"/></a>"
      ]
    },
    {
      "cell_type": "markdown",
      "source": [
        "#Libros y Bytes"
      ],
      "metadata": {
        "id": "DJ5DUlBQach-"
      }
    },
    {
      "cell_type": "markdown",
      "source": [
        "##Requerimientos:\n",
        "\n",
        "\n",
        "\n"
      ],
      "metadata": {
        "id": "Htw3cw-ialwf"
      }
    },
    {
      "cell_type": "markdown",
      "source": [
        "###1.- Definir variables básicas y tipos de datos:\n",
        "  * Crea una lista que contenga al menos 5 libros\n",
        "  * Cada libro sea un diccionario\n",
        "  * Con los siguientes atributos:\n",
        "    * título: cadena de caracteres\n",
        "    * autor: cadena de caracteres\n",
        "    * precio: decimal\n",
        "    * cantidad en stock: entero  "
      ],
      "metadata": {
        "id": "5FrXDMUgbj4y"
      }
    },
    {
      "cell_type": "code",
      "source": [
        "# principales métodos de una lista:\n",
        "# append(): Agrega un elemento al final de la lista.\n",
        "# extend(): Agrega todos los elementos de un iterable (como otra lista) al final de la lista actual.\n",
        "# insert(): Inserta un elemento en un índice específico.\n",
        "# remove(): Elimina la primera aparición de un elemento específico.\n",
        "# pop(): Elimina y devuelve el elemento en un índice específico.\n",
        "# clear(): Elimina todos los elementos de la lista.\n",
        "# index(): Devuelve el índice de la primera aparición de un elemento.\n",
        "# count(): Devuelve el número de veces que un elemento aparece en la lista.\n",
        "# sort(): Ordena la lista en orden ascendente (o descendente si reverse=True).\n",
        "# reverse(): Invierte el orden de la lista.\n",
        "# copy(): Devuelve una copia superficial de la lista."
      ],
      "metadata": {
        "id": "-6TiM5zOdJqR"
      },
      "execution_count": null,
      "outputs": []
    },
    {
      "cell_type": "code",
      "execution_count": 2,
      "metadata": {
        "colab": {
          "base_uri": "https://localhost:8080/"
        },
        "id": "ChWd_yfRaY-8",
        "outputId": "53b0690f-0b85-430c-f72d-31bdcbf02828"
      },
      "outputs": [
        {
          "output_type": "stream",
          "name": "stdout",
          "text": [
            "*El elemnto ubicado en el índice 2 es: Python\n",
            "*La cantidad de elementos presentes en la lista es: 5\n",
            "1\n",
            "M\n",
            "Python\n",
            "2.3\n",
            "False\n",
            "[1, 'M', 'Python', 2.3, False, 'Naranjas']\n",
            "[1, 'M', 'Naranjas', 'Python', 2.3, False, 'Naranjas']\n",
            "[1, 'M', 'Python', 2.3, False, 'Naranjas']\n",
            "[1, 'M', 2.3, False, 'Naranjas']\n",
            "[]\n"
          ]
        }
      ],
      "source": [
        "#        0   1      2       3     4     posiciones en el  índice\n",
        "lista = [1, \"M\", \"Python\", 2.3, False]\n",
        "print(f\"*El elemnto ubicado en el índice 2 es: {lista[2]}\")\n",
        "\n",
        "largo_lista = len(lista) #nos entrega la cantidad de elementos presentes\n",
        "print(f\"*La cantidad de elementos presentes en la lista es: {largo_lista}\")\n",
        "\n",
        "#recorrer una lista\n",
        "for elemento in lista:\n",
        "  print(elemento)\n",
        "\n",
        "lista.append(\"Naranjas\") #añadir elemento en la lista\n",
        "print(lista)\n",
        "\n",
        "lista.insert(2,\"Naranjas\") #agrego elemento en un índice específico\n",
        "print(lista)\n",
        "\n",
        "lista.remove(\"Naranjas\") #remueve el primer valor que encuentre igual a Naranjas\n",
        "print(lista)\n",
        "\n",
        "lista.pop(2) #remueve lo que encuentre en el índice 2\n",
        "print(lista)\n",
        "\n",
        "lista.clear() #acá ya me amurré y no quise seguir jugando con la lista, así que la borré\n",
        "print(lista)"
      ]
    },
    {
      "cell_type": "code",
      "source": [
        "# principales métodos de un diccionario:\n",
        "# clear(): Elimina todos los elementos del diccionario.\n",
        "# copy(): Devuelve una copia superficial del diccionario.\n",
        "# fromkeys(keys, value): Crea un nuevo diccionario con las claves especificadas y un valor opcional.\n",
        "# get(key, default): Devuelve el valor de la clave especificada, o el valor por defecto si la clave no se encuentra.\n",
        "# items(): Devuelve una vista de los pares clave-valor del diccionario.\n",
        "# keys(): Devuelve una vista de las claves del diccionario.\n",
        "# pop(key, default): Elimina y devuelve el valor de la clave especificada. Si la clave no se encuentra, devuelve el valor por defecto si se proporciona.\n",
        "# popitem(): Elimina y devuelve un par clave-valor arbitrario (generalmente el último).\n",
        "# setdefault(key, default): Devuelve el valor de la clave especificada. Si la clave no se encuentra, la inserta con el valor por defecto y devuelve ese valor.\n",
        "# update(iterable): Agrega pares clave-valor de un iterable (como otro diccionario) al diccionario actual.\n",
        "# values(): Devuelve una vista de los valores del diccionario."
      ],
      "metadata": {
        "id": "RVefKBeUipgE"
      },
      "execution_count": null,
      "outputs": []
    },
    {
      "cell_type": "code",
      "source": [
        "diccionario = {\"clave1\" : \"valor1\", \"clave2\" : \"valor2\"}\n",
        "print(diccionario)\n",
        "\n",
        "print(diccionario.items())\n",
        "print(diccionario.keys())\n",
        "print(diccionario.values())\n",
        "print(diccionario.get(\"clave1\"))\n",
        "\n",
        "diccionario[\"clave3\"] = \"valor3\"\n",
        "print(diccionario)\n",
        "\n",
        "diccionario.setdefault(\"clave4\", \"valor4\")\n",
        "print(diccionario)\n",
        "\n",
        "\n",
        "\n"
      ],
      "metadata": {
        "colab": {
          "base_uri": "https://localhost:8080/"
        },
        "id": "f3pOSBaZiCBS",
        "outputId": "cc0b9579-2f8f-4bbf-ec2f-fd6878e7b82c"
      },
      "execution_count": 3,
      "outputs": [
        {
          "output_type": "stream",
          "name": "stdout",
          "text": [
            "{'clave1': 'valor1', 'clave2': 'valor2'}\n",
            "dict_items([('clave1', 'valor1'), ('clave2', 'valor2')])\n",
            "dict_keys(['clave1', 'clave2'])\n",
            "dict_values(['valor1', 'valor2'])\n",
            "valor1\n",
            "{'clave1': 'valor1', 'clave2': 'valor2', 'clave3': 'valor3'}\n",
            "{'clave1': 'valor1', 'clave2': 'valor2', 'clave3': 'valor3', 'clave4': 'valor4'}\n"
          ]
        }
      ]
    },
    {
      "cell_type": "code",
      "source": [
        "lista_de_iterables = [\n",
        "    [1, 2, 3],  # Lista\n",
        "    {'a': 1, 'b': 2},  # Diccionario\n",
        "    (4, 5, 6),  # Tupla, no permite modificación\n",
        "    {7, 8, 9, 8}   # Set, no admite valores repetidos\n",
        "]\n",
        "\n",
        "print(lista_de_iterables)\n",
        "lista_de_conjunto = lista_de_iterables[3]\n",
        "lista_de_conjunto"
      ],
      "metadata": {
        "colab": {
          "base_uri": "https://localhost:8080/"
        },
        "id": "uXfJVqoal1nh",
        "outputId": "292457a7-aa0d-4ac4-dc15-71b88a739af1"
      },
      "execution_count": 22,
      "outputs": [
        {
          "output_type": "stream",
          "name": "stdout",
          "text": [
            "[[1, 2, 3], {'a': 1, 'b': 2}, (4, 5, 6), {8, 9, 7}]\n"
          ]
        },
        {
          "output_type": "execute_result",
          "data": {
            "text/plain": [
              "{7, 8, 9}"
            ]
          },
          "metadata": {},
          "execution_count": 22
        }
      ]
    },
    {
      "cell_type": "code",
      "source": [
        "#Crea una lista que tenga al menos 5 libros\n",
        "libros_programacion =  [\n",
        "    {\"título\": \"Python Básico\", \"autor\": \"Aquiles Baeza\", \"precio\": 25.99, \"stock\": 5},\n",
        "    {\"título\": \"Data Science\", \"autor\": \"Ana Gómez\", \"precio\": 35.50, \"stock\": 3},\n",
        "    {\"título\": \"Web Development\", \"autor\": \"Carlos Pérez\", \"precio\": 29.99, \"stock\": 7},\n",
        "    {\"título\": \"Machine Learning\", \"autor\": \"Luis Fernández\", \"precio\": 39.99, \"stock\": 2},\n",
        "    {\"título\": \"Cloud Computing\", \"autor\": \"Erasmo Flowers\", \"precio\": 22.00, \"stock\": 4},\n",
        "    {\"título\": \"JavaScript\", \"autor\": \"Evaristo Páramos\", \"precio\": 25.99, \"stock\": 0},\n",
        "]\n",
        "\n",
        "libros_poesia_chilena = [\n",
        "    {\"título\": \"Altazor\", \"autor\": \"Vicente Huidobro\", \"precio\": 22.00, \"stock\": 5},\n",
        "    {\"título\": \"Canto General\", \"autor\": \"Pablo Neruda\", \"precio\": 20.00, \"stock\": 0},\n",
        "    {\"título\": \"Antología personal\", \"autor\": \"Nicanor Parra\", \"precio\": 17.50, \"stock\": 5},\n",
        "    {\"título\": \"La cueca sola\", \"autor\": \"Violeta Parra\", \"precio\": 14.00, \"stock\": 5},\n",
        "    {\"título\": \"Epopeya de las comidas y bebidas de Chile\", \"autor\": \"Pablo de Rokha\", \"precio\": 25.00, \"stock\": 5},\n",
        "    {\"título\": \"Antología de Poesía Chilena\", \"autor\": \"Eduardo Anguita\", \"precio\": 30.00, \"stock\": 5},\n",
        "    {\"título\": \"La pieza oscura y otros poemas\", \"autor\": \"Enrique Lihn\", \"precio\": 28.00, \"stock\": 5}\n",
        "]\n",
        "\n",
        "biblioteca = [libros_programacion, libros_poesia_chilena]\n",
        "print(biblioteca)\n",
        "type(biblioteca)\n",
        "\n"
      ],
      "metadata": {
        "id": "U88kSMPIpU22",
        "colab": {
          "base_uri": "https://localhost:8080/"
        },
        "outputId": "4eab7c76-e323-4669-8772-a866378134a2"
      },
      "execution_count": 42,
      "outputs": [
        {
          "output_type": "stream",
          "name": "stdout",
          "text": [
            "[[{'título': 'Python Básico', 'autor': 'Aquiles Baeza', 'precio': 25.99, 'stock': 5}, {'título': 'Data Science', 'autor': 'Ana Gómez', 'precio': 35.5, 'stock': 3}, {'título': 'Web Development', 'autor': 'Carlos Pérez', 'precio': 29.99, 'stock': 7}, {'título': 'Machine Learning', 'autor': 'Luis Fernández', 'precio': 39.99, 'stock': 2}, {'título': 'Cloud Computing', 'autor': 'Erasmo Flowers', 'precio': 22.0, 'stock': 4}, {'título': 'JavaScript', 'autor': 'Evaristo Páramos', 'precio': 25.99, 'stock': 0}], [{'título': 'Altazor', 'autor': 'Vicente Huidobro', 'precio': 22.0, 'stock': 5}, {'título': 'Canto General', 'autor': 'Pablo Neruda', 'precio': 20.0, 'stock': 0}, {'título': 'Antología personal', 'autor': 'Nicanor Parra', 'precio': 17.5, 'stock': 5}, {'título': 'La cueca sola', 'autor': 'Violeta Parra', 'precio': 14.0, 'stock': 5}, {'título': 'Epopeya de las comidas y bebidas de Chile', 'autor': 'Pablo de Rokha', 'precio': 25.0, 'stock': 5}, {'título': 'Antología de Poesía Chilena', 'autor': 'Eduardo Anguita', 'precio': 30.0, 'stock': 5}, {'título': 'La pieza oscura y otros poemas', 'autor': 'Enrique Lihn', 'precio': 28.0, 'stock': 5}]]\n"
          ]
        },
        {
          "output_type": "execute_result",
          "data": {
            "text/plain": [
              "list"
            ]
          },
          "metadata": {},
          "execution_count": 42
        }
      ]
    },
    {
      "cell_type": "markdown",
      "source": [
        "##2.-Control de Flujo\n",
        "\n",
        "* Implementar una función llamada mostrar_libros_disponibles()\n",
        "* Debe recorrer la lista de libros y mostrar los libros que tienen más de una unidad\n",
        "* utilizar sentencia for y condicón if"
      ],
      "metadata": {
        "id": "n9qFSTeurt8h"
      }
    },
    {
      "cell_type": "markdown",
      "source": [
        "###Ciclo for"
      ],
      "metadata": {
        "id": "TSkLJEQDy26c"
      }
    },
    {
      "cell_type": "code",
      "source": [
        "# Iterar sobre una lista\n",
        "frutas = [\"manzana\", \"banana\", \"cereza\"]\n",
        "for fruta in frutas:\n",
        "  print(fruta)\n",
        "\n",
        "for indice, fruta in enumerate(frutas):\n",
        "  print(f\"Índice: {indice}, Fruta: {fruta}\")\n",
        "\n",
        "# Iterar sobre una cadena\n",
        "for caracter in \"Python\":\n",
        "  print(caracter)\n",
        "\n",
        "# Iterar sobre un rango de números\n",
        "for i in range(3): # range(3) genera números del 0 al 2\n",
        "  print(i)\n",
        "\n"
      ],
      "metadata": {
        "colab": {
          "base_uri": "https://localhost:8080/"
        },
        "id": "mkHoMtxfy9vf",
        "outputId": "b7a48056-4461-4661-847e-4b8ed55409fa"
      },
      "execution_count": 34,
      "outputs": [
        {
          "output_type": "stream",
          "name": "stdout",
          "text": [
            "manzana\n",
            "banana\n",
            "cereza\n",
            "Índice: 0, Fruta: manzana\n",
            "Índice: 1, Fruta: banana\n",
            "Índice: 2, Fruta: cereza\n",
            "P\n",
            "y\n",
            "t\n",
            "h\n",
            "o\n",
            "n\n",
            "0\n",
            "1\n",
            "2\n"
          ]
        }
      ]
    },
    {
      "cell_type": "markdown",
      "source": [
        "###Condicional if, elif, else"
      ],
      "metadata": {
        "id": "2_rmum8hzG4p"
      }
    },
    {
      "cell_type": "code",
      "source": [
        "score = 85\n",
        "\n",
        "if score >= 90: #si esta  condición es verdadera, entra acá, de no serlo, continúa  hacia abajo\n",
        "  print(\"Tienes una A\")\n",
        "elif score >= 80:\n",
        "  print(\"Tienes una B\")\n",
        "elif score >= 70:\n",
        "  print(\"Tienes una C\")\n",
        "else:\n",
        "  print(\"Necesitas mejorar\")"
      ],
      "metadata": {
        "id": "ert0I89PzGVt"
      },
      "execution_count": null,
      "outputs": []
    },
    {
      "cell_type": "markdown",
      "source": [
        "###Volviendo a la resolución del problema"
      ],
      "metadata": {
        "id": "P9NsKLbZ0yBU"
      }
    },
    {
      "cell_type": "code",
      "source": [
        "for libro in libros_programacion:\n",
        "  if libro[\"stock\"] > 1:\n",
        "    print(libro)\n",
        "\n",
        "for libro in libros_poesia_chilena:\n",
        "  if libro[\"stock\"] > 1:\n",
        "    print(libro)\n",
        "\n",
        "#problema, cada vez que quiera imprimir un listado de libros, debo volver a escribir un ciclo for y utilizar el condicional if...\n",
        "#hacerlo de esa manera me da flojera y es poco eficiente"
      ],
      "metadata": {
        "colab": {
          "base_uri": "https://localhost:8080/"
        },
        "id": "J6gUI3a-sPwz",
        "outputId": "670e1578-941b-403d-ef04-58ab4c88ff92"
      },
      "execution_count": 25,
      "outputs": [
        {
          "output_type": "stream",
          "name": "stdout",
          "text": [
            "{'título': 'Python Básico', 'autor': 'Carlos Pérez', 'precio': 25.99, 'stock': 5}\n",
            "{'título': 'Data Science', 'autor': 'Ana Gómez', 'precio': 35.5, 'stock': 3}\n",
            "{'título': 'Web Development', 'autor': 'Carlos Pérez', 'precio': 29.99, 'stock': 7}\n",
            "{'título': 'Machine Learning', 'autor': 'Luis Fernández', 'precio': 39.99, 'stock': 2}\n",
            "{'título': 'Cloud Computing', 'autor': 'Ana Gómez', 'precio': 22.0, 'stock': 4}\n",
            "{'título': 'Altazor', 'autor': 'Vicente Huidobro', 'precio': 22.0, 'stock': 5}\n",
            "{'título': 'Antología personal', 'autor': 'Nicanor Parra', 'precio': 17.5, 'stock': 5}\n",
            "{'título': 'La cueca sola', 'autor': 'Violeta Parra', 'precio': 14.0, 'stock': 5}\n",
            "{'título': 'Epopeya de las comidas y bebidas de Chile', 'autor': 'Pablo de Rokha', 'precio': 25.0, 'stock': 5}\n",
            "{'título': 'Antología de Poesía Chilena', 'autor': 'Eduardo Anguita', 'precio': 30.0, 'stock': 5}\n",
            "{'título': 'La pieza oscura y otros poemas', 'autor': 'Enrique Lihn', 'precio': 28.0, 'stock': 5}\n"
          ]
        }
      ]
    },
    {
      "cell_type": "code",
      "source": [
        "#solución: utilizar una función que pueda invocar a mi voluntad y pasarle el listado de libros que yo requiera\n",
        "#ventajas: escribo la funcion una sola vez, y la puedo invocar las veces que yo quiera\n",
        "\n",
        "#sintaxis: toda función comienza con def\n",
        "#luego viene el nombre de la función\n",
        "#y luego entre paréntesis el o los parámetros requeridos\n",
        "\n",
        "#existen funciones que no requieren parámetros\n",
        "def saludar():\n",
        "  \"\"\"Esta función saluda\"\"\"\n",
        "  print(f\"¡Hola!\")\n",
        "\n",
        "# Llamar a la función\n",
        "saludar()\n",
        "\n",
        "#con un parámetro\n",
        "def saludar(nombre):\n",
        "  \"\"\"Esta función saluda a la persona pasada como parámetro\"\"\"\n",
        "  print(f\"¡Hola, {nombre}!\")\n",
        "\n",
        "# Llamar a la función\n",
        "saludar(\"Juan\")\n",
        "\n",
        "#con dos  parámetros\n",
        "def saludar(nombre, edad):\n",
        "  \"\"\"Esta función saluda a la persona pasada como parámetro y le dice la edad pasada como parámetro\"\"\"\n",
        "  print(f\"¡Hola, {nombre}! Tienes {edad} años.\")\n",
        "\n",
        "# Llamar a la función\n",
        "saludar(\"Juan\", 30)\n",
        "\n",
        "\n"
      ],
      "metadata": {
        "colab": {
          "base_uri": "https://localhost:8080/"
        },
        "id": "N7oZJX7rvICH",
        "outputId": "f777cbd5-2386-42ab-f12c-6ad8c45ceefe"
      },
      "execution_count": 36,
      "outputs": [
        {
          "output_type": "stream",
          "name": "stdout",
          "text": [
            "¡Hola!\n",
            "¡Hola, Juan!\n",
            "¡Hola, Juan! Tienes 30 años.\n"
          ]
        }
      ]
    },
    {
      "cell_type": "code",
      "source": [
        "def mostrar_libros_disponibles(lista_libros):\n",
        "  for libro in lista_libros:\n",
        "    if libro[\"stock\"] > 1:\n",
        "      # print(libro)\n",
        "       print(f\"- {libro['título']} ({libro['autor']}), ${libro['precio']}, Stock: {libro['stock']}\")\n",
        "\n",
        "mostrar_libros_disponibles(libros_programacion)"
      ],
      "metadata": {
        "colab": {
          "base_uri": "https://localhost:8080/"
        },
        "id": "wQ8_4ORIyilh",
        "outputId": "960e179f-95ee-4b3f-a495-9a51c7620838"
      },
      "execution_count": 38,
      "outputs": [
        {
          "output_type": "stream",
          "name": "stdout",
          "text": [
            "- Python Básico (Carlos Pérez), $25.99, Stock: 5\n",
            "- Data Science (Ana Gómez), $35.5, Stock: 3\n",
            "- Web Development (Carlos Pérez), $29.99, Stock: 7\n",
            "- Machine Learning (Luis Fernández), $39.99, Stock: 2\n",
            "- Cloud Computing (Ana Gómez), $22.0, Stock: 4\n"
          ]
        }
      ]
    },
    {
      "cell_type": "code",
      "source": [
        "\n",
        "\n",
        "print(\"****************\")\n",
        "\n",
        "#generar números\n",
        "for elemento in range(largo_lista):\n",
        "  print(elemento)"
      ],
      "metadata": {
        "colab": {
          "base_uri": "https://localhost:8080/"
        },
        "id": "aUMBzCskcHXf",
        "outputId": "12299c9c-b46f-4639-e9ba-377d07e6e8f4"
      },
      "execution_count": null,
      "outputs": [
        {
          "output_type": "stream",
          "name": "stdout",
          "text": [
            "1\n",
            "M\n",
            "Python\n",
            "2.3\n",
            "False\n",
            "****************\n",
            "0\n",
            "1\n",
            "2\n",
            "3\n",
            "4\n"
          ]
        }
      ]
    },
    {
      "cell_type": "code",
      "source": [],
      "metadata": {
        "id": "F-N7lUL7iZWT"
      },
      "execution_count": null,
      "outputs": []
    },
    {
      "cell_type": "code",
      "metadata": {
        "id": "d0fe7e77"
      },
      "source": [
        "lista_de_iterables = [\n",
        "    [1, 2, 3],  # Lista\n",
        "    {'a': 1, 'b': 2},  # Diccionario\n",
        "    (4, 5, 6),  # Tupla\n",
        "    {7, 8, 9}   # Set\n",
        "]\n",
        "\n",
        "print(lista_de_iterables)"
      ],
      "execution_count": null,
      "outputs": []
    },
    {
      "cell_type": "code",
      "metadata": {
        "id": "da93333b"
      },
      "source": [
        "score = 85\n",
        "\n",
        "if score >= 90:\n",
        "  print(\"Tienes una A\")\n",
        "elif score >= 80:\n",
        "  print(\"Tienes una B\")\n",
        "elif score >= 70:\n",
        "  print(\"Tienes una C\")\n",
        "else:\n",
        "  print(\"Necesitas mejorar\")"
      ],
      "execution_count": null,
      "outputs": []
    }
  ]
}